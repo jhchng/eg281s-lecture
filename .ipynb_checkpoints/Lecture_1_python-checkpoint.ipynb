{
 "cells": [
  {
   "cell_type": "markdown",
   "id": "49338c63-3b21-45b5-b4cb-2a9af90edd68",
   "metadata": {
    "jp-MarkdownHeadingCollapsed": true,
    "tags": []
   },
   "source": [
    "<div style=\"background-color: #e6e6fa\">\n",
    "    <p><strong>(I) For reference to fundamental python coding <a href:\"https://www.w3schools.com/python\">https://www.w3schools.com/python</a><br>\n",
    "        Numbers in Python and how to use them.</strong></p>\n",
    "        <ol>\n",
    "            <li> Types of Numbers in Python </li>\n",
    "            <li> Basic Arithmetic </li>\n",
    "        </ol>\n",
    "</div>"
   ]
  },
  {
   "cell_type": "code",
   "execution_count": 35,
   "id": "19d55a51-c5e5-42aa-8211-06d95aceed22",
   "metadata": {
    "tags": []
   },
   "outputs": [
    {
     "data": {
      "text/plain": [
       "3"
      ]
     },
     "execution_count": 35,
     "metadata": {},
     "output_type": "execute_result"
    }
   ],
   "source": [
    "# Addition\n",
    "2+1"
   ]
  },
  {
   "cell_type": "code",
   "execution_count": 36,
   "id": "e197c97a-21cf-4b9b-b75b-b3d36f934514",
   "metadata": {},
   "outputs": [
    {
     "data": {
      "text/plain": [
       "1"
      ]
     },
     "execution_count": 36,
     "metadata": {},
     "output_type": "execute_result"
    }
   ],
   "source": [
    "# Subtraction\n",
    "2-1"
   ]
  },
  {
   "cell_type": "code",
   "execution_count": 37,
   "id": "4c4cfd70-9526-4c7d-8f6c-ae773ab590ea",
   "metadata": {},
   "outputs": [
    {
     "data": {
      "text/plain": [
       "4"
      ]
     },
     "execution_count": 37,
     "metadata": {},
     "output_type": "execute_result"
    }
   ],
   "source": [
    "# Multiplication\n",
    "2*2"
   ]
  },
  {
   "cell_type": "code",
   "execution_count": 11,
   "id": "e5e04f99-c633-44cb-8b3b-c318227d6919",
   "metadata": {},
   "outputs": [
    {
     "data": {
      "text/plain": [
       "1.5"
      ]
     },
     "execution_count": 11,
     "metadata": {},
     "output_type": "execute_result"
    }
   ],
   "source": [
    "# Division\n",
    "3/2"
   ]
  },
  {
   "cell_type": "code",
   "execution_count": 15,
   "id": "61b9e730-b99a-42d3-adc0-25cc75a2e71d",
   "metadata": {},
   "outputs": [
    {
     "data": {
      "text/plain": [
       "8"
      ]
     },
     "execution_count": 15,
     "metadata": {},
     "output_type": "execute_result"
    }
   ],
   "source": [
    "# Powers\n",
    "2**3"
   ]
  },
  {
   "cell_type": "code",
   "execution_count": 14,
   "id": "0e4bd5c6-f242-406b-849d-ba5d21ca29d5",
   "metadata": {},
   "outputs": [
    {
     "data": {
      "text/plain": [
       "2.0"
      ]
     },
     "execution_count": 14,
     "metadata": {},
     "output_type": "execute_result"
    }
   ],
   "source": [
    "# Can also do roots this way\n",
    "4**0.5"
   ]
  },
  {
   "cell_type": "code",
   "execution_count": 16,
   "id": "f9d45c56-2fb7-460a-86b1-7baa962ac8f9",
   "metadata": {},
   "outputs": [
    {
     "data": {
      "text/plain": [
       "-95"
      ]
     },
     "execution_count": 16,
     "metadata": {},
     "output_type": "execute_result"
    }
   ],
   "source": [
    "# Order of Operations followed in Python\n",
    "2 - 10 * 10 + 3"
   ]
  },
  {
   "cell_type": "code",
   "execution_count": 18,
   "id": "e9993648-2c0a-43f4-a676-d1fd03e9e72e",
   "metadata": {},
   "outputs": [
    {
     "data": {
      "text/plain": [
       "156"
      ]
     },
     "execution_count": 18,
     "metadata": {},
     "output_type": "execute_result"
    }
   ],
   "source": [
    "# Can use parenthesis to specify orders\n",
    "(2+10) * (10+3)"
   ]
  },
  {
   "cell_type": "markdown",
   "id": "ef1fdd93-40c6-43bb-bba5-60819f370f6d",
   "metadata": {
    "tags": []
   },
   "source": [
    "<div style=\"background-color: #e6e6fa\">\n",
    "<p><strong>(II) Using appropriate variable names to keep better track of what's going on in your code.</strong></p>\n",
    "my_income = 100<br>\n",
    "interest_rate = 0.1<br>\n",
    "\n",
    "interest = my_income*interest_rate<br>\n",
    "\n",
    "<p>Show my savings.</p>\n",
    "print(interest)\n",
    "</div>"
   ]
  },
  {
   "cell_type": "code",
   "execution_count": 60,
   "id": "007544ab-c103-4e95-90b0-58aa7d903f34",
   "metadata": {},
   "outputs": [
    {
     "name": "stdout",
     "output_type": "stream",
     "text": [
      "The interest amount is $10.0\n"
     ]
    }
   ],
   "source": [
    "#Variable Assignments\n",
    "# Test the codes here\n",
    "my_income = 100\n",
    "interest_rate = 0.1\n",
    "\n",
    "interest = my_income*interest_rate\n",
    "\n",
    "print(\"The interest amount is ${}\".format(interest))"
   ]
  },
  {
   "cell_type": "markdown",
   "id": "b1c49a25-d394-46f5-85ae-00c562e5acc7",
   "metadata": {
    "tags": []
   },
   "source": [
    "<div style=\"background-color: #e6e6fa\">\n",
    "<p><strong>(III) Rules to Variable Assignments</strong></p>\n",
    "<p>The names you use when creating these labels need to follow a few rules:<br>\n",
    "<ol>\n",
    "    <li>Names can not start with a number.</li>\n",
    "    <li>There can be no spaces in the name, use _ instead.</li>\n",
    "    <li>Can't use any of these symbols :'\",<>/?|\\()!@#$%^&*~-+</li>\n",
    "    <li>It's considered best practice (PEP8) that the names are lowercase.</li>\n",
    "</ol>\n",
    "</p>\n",
    "</div>"
   ]
  },
  {
   "cell_type": "code",
   "execution_count": 20,
   "id": "ff523d87-501c-42cb-b48d-1340531e19c2",
   "metadata": {},
   "outputs": [],
   "source": [
    "a = 1"
   ]
  },
  {
   "cell_type": "code",
   "execution_count": 23,
   "id": "aecb6950-f275-420c-a2d2-d38569d86ae5",
   "metadata": {},
   "outputs": [
    {
     "name": "stdout",
     "output_type": "stream",
     "text": [
      "4\n"
     ]
    }
   ],
   "source": [
    "a += 1\n",
    "print(a)"
   ]
  },
  {
   "cell_type": "code",
   "execution_count": 24,
   "id": "8aa4301c-9834-432c-be24-4c8c5d43bd12",
   "metadata": {},
   "outputs": [
    {
     "name": "stdout",
     "output_type": "stream",
     "text": [
      "4.0\n"
     ]
    }
   ],
   "source": [
    "b=float(a)\n",
    "print(b)"
   ]
  },
  {
   "cell_type": "markdown",
   "id": "cc583a85-5009-4cc4-8836-5099f5a8b111",
   "metadata": {
    "tags": []
   },
   "source": [
    "<div style=\"background-color: #e6e6fa\">\n",
    "<p><strong>(IV) Python is an Objected Oriented Programming Language, as such, very thing is an object.</strong><br>\n",
    "To know the type of each object, pass the object into the type function.<br>\n",
    "<br>\n",
    "The class is a blueprint that defines the nature of an object.<br>\n",
    "from classes, we can then construct instances of that class.<br>\n",
    "instance is just a specific object created for a particular class.<br>\n",
    "</p>\n",
    "<pre style=\"background-color: #FBFCFC\">\n",
    "\n",
    "Example\n",
    "  a = 1        (interger object created)\n",
    "  b = \"hello\"  (a string object created)\n",
    "  c = []       (a list object created)\n",
    "\n",
    "</pre>\n",
    "\n",
    "</div>"
   ]
  },
  {
   "cell_type": "code",
   "execution_count": 32,
   "id": "bd4d52a1-4e2f-4591-89fb-0d610f8a6966",
   "metadata": {
    "tags": []
   },
   "outputs": [
    {
     "data": {
      "text/plain": [
       "int"
      ]
     },
     "execution_count": 32,
     "metadata": {},
     "output_type": "execute_result"
    }
   ],
   "source": [
    "a=1\n",
    "type(a)"
   ]
  },
  {
   "cell_type": "code",
   "execution_count": 31,
   "id": "c4c6b762-3293-4eed-8cca-b6dffd68b31a",
   "metadata": {},
   "outputs": [
    {
     "name": "stdout",
     "output_type": "stream",
     "text": [
      "<class 'int'>\n"
     ]
    }
   ],
   "source": [
    "print(type(a))"
   ]
  },
  {
   "cell_type": "code",
   "execution_count": 33,
   "id": "7175a811-1db3-49f3-b89e-600d97019635",
   "metadata": {},
   "outputs": [
    {
     "name": "stdout",
     "output_type": "stream",
     "text": [
      "<class 'float'>\n"
     ]
    }
   ],
   "source": [
    "a=1.0\n",
    "print(type(a))"
   ]
  },
  {
   "cell_type": "code",
   "execution_count": 39,
   "id": "7e04a40a-e90e-45c4-ac0d-53e01fd7a3d5",
   "metadata": {},
   "outputs": [
    {
     "name": "stdout",
     "output_type": "stream",
     "text": [
      "<class 'str'>\n"
     ]
    }
   ],
   "source": [
    "#Characters between Single quote or double quotes in Python taken as a string\n",
    "a=\"helloworld\"\n",
    "print(type(a))"
   ]
  },
  {
   "cell_type": "markdown",
   "id": "e3163a0a-76b8-4f5c-894a-51383d943376",
   "metadata": {},
   "source": [
    "<div style=\"background-color: #e6e6fa\">\n",
    "    <strong>(V) For Loops()</strong>\n",
    "    <p><strong>#Important to take note of the 'tab' spacing. In python syntax, code alignment with tab is important.</strong></p>\n",
    "</div>"
   ]
  },
  {
   "cell_type": "code",
   "execution_count": 63,
   "id": "662bef59-cdad-48b8-94bc-17a44ffa64fd",
   "metadata": {},
   "outputs": [
    {
     "name": "stdout",
     "output_type": "stream",
     "text": [
      "h\n",
      "e\n",
      "l\n",
      "l\n",
      "o\n",
      "w\n",
      "o\n",
      "r\n",
      "l\n",
      "d\n"
     ]
    }
   ],
   "source": [
    "#For every element in 'a', print the element assigned.\n",
    "for i in a:\n",
    "    print(i)"
   ]
  },
  {
   "cell_type": "code",
   "execution_count": 64,
   "id": "de6f7417-f7d7-459d-a356-161659b454cb",
   "metadata": {},
   "outputs": [
    {
     "data": {
      "text/plain": [
       "10"
      ]
     },
     "execution_count": 64,
     "metadata": {},
     "output_type": "execute_result"
    }
   ],
   "source": [
    "#len() function returns the number of items in 'a'.\n",
    "len(a)"
   ]
  },
  {
   "cell_type": "code",
   "execution_count": 65,
   "id": "9568c860-8e96-4e19-832b-c6b7e4bcc0b0",
   "metadata": {},
   "outputs": [
    {
     "name": "stdout",
     "output_type": "stream",
     "text": [
      "0\n",
      "1\n",
      "2\n",
      "3\n",
      "4\n",
      "5\n",
      "6\n",
      "7\n",
      "8\n",
      "9\n"
     ]
    }
   ],
   "source": [
    "#The range() function returns a sequence of numbers, starting from 0 and increments by 1 (by default), and stops before a specified number.\n",
    "#in the case below, len(a)=10, therefore range(len(a)) is similar to range(10)\n",
    "for i in range(len(a)):\n",
    "    print(i)"
   ]
  },
  {
   "cell_type": "markdown",
   "id": "19657df5-6911-4fd8-8c1d-3a08b31673fc",
   "metadata": {},
   "source": [
    "<div style=\"background-color: #e6e6fa\">\n",
    "<pre style=\"background-color: #e6e6fa\">\n",
    "<strong>(VI) Strings can only consist of characters, while lists can contain any data type. Because of this difference, a list cannot be easily made into a string, but string conversion into a list of characters can be done using the list() function.</strong>\n",
    "</pre>\n",
    "</div>"
   ]
  },
  {
   "cell_type": "code",
   "execution_count": 69,
   "id": "92654e90-d436-4cdb-b253-dd03e9feeff4",
   "metadata": {},
   "outputs": [
    {
     "ename": "TypeError",
     "evalue": "'str' object does not support item assignment",
     "output_type": "error",
     "traceback": [
      "\u001b[1;31m---------------------------------------------------------------------------\u001b[0m",
      "\u001b[1;31mTypeError\u001b[0m                                 Traceback (most recent call last)",
      "\u001b[1;32m~\\AppData\\Local\\Temp/ipykernel_25616/136577931.py\u001b[0m in \u001b[0;36m<module>\u001b[1;34m\u001b[0m\n\u001b[0;32m      1\u001b[0m \u001b[1;31m#Strings are immutable, meaning that we cannot update them\u001b[0m\u001b[1;33m\u001b[0m\u001b[1;33m\u001b[0m\u001b[1;33m\u001b[0m\u001b[0m\n\u001b[1;32m----> 2\u001b[1;33m \u001b[0ma\u001b[0m\u001b[1;33m[\u001b[0m\u001b[1;36m5\u001b[0m\u001b[1;33m]\u001b[0m\u001b[1;33m=\u001b[0m\u001b[1;34m'c'\u001b[0m\u001b[1;33m\u001b[0m\u001b[1;33m\u001b[0m\u001b[0m\n\u001b[0m\u001b[0;32m      3\u001b[0m \u001b[0mprint\u001b[0m\u001b[1;33m(\u001b[0m\u001b[0ma\u001b[0m\u001b[1;33m)\u001b[0m\u001b[1;33m\u001b[0m\u001b[1;33m\u001b[0m\u001b[0m\n",
      "\u001b[1;31mTypeError\u001b[0m: 'str' object does not support item assignment"
     ]
    }
   ],
   "source": [
    "#Strings are immutable, meaning that we cannot update them\n",
    "a[5]='c'\n",
    "print(a)"
   ]
  },
  {
   "cell_type": "code",
   "execution_count": 70,
   "id": "7a6c50fe-afda-447f-a38a-56a43f48ae66",
   "metadata": {},
   "outputs": [
    {
     "name": "stdout",
     "output_type": "stream",
     "text": [
      "List b contains: ['h', 'e', 'l', 'l', 'o', 'w', 'o', 'r', 'l', 'd']\n",
      "Note 6th element in the list will be replaced with c\n"
     ]
    }
   ],
   "source": [
    "#Convert string 'a' into a list using the list function \n",
    "b=list(a)\n",
    "print(\"List b contains: {}\".format(b))\n",
    "b[5]='c'\n",
    "print(\"Note 6th element in the list will be replaced with {}\".format(b[5]))"
   ]
  },
  {
   "cell_type": "code",
   "execution_count": 71,
   "id": "7dfa2852-1d51-48dc-a688-83895717bc35",
   "metadata": {},
   "outputs": [
    {
     "name": "stdout",
     "output_type": "stream",
     "text": [
      "Note 6th element is now 'c': ['h', 'e', 'l', 'l', 'o', 'c', 'o', 'r', 'l', 'd']\n"
     ]
    }
   ],
   "source": [
    "#Printing list 'b' with 5th element replaced. \n",
    "print(\"Note 6th element is now 'c': {}\".format(b))"
   ]
  },
  {
   "cell_type": "markdown",
   "id": "4f4b1a1f-72d5-4317-957f-3057cf710e03",
   "metadata": {},
   "source": [
    "<div style=\"background-color: #e6e6fa\">\n",
    "<pre style=\"background-color: #e6e6fa\">\n",
    "<strong>(VII) Indexing and Slicing of strings and lists. \n",
    "      Methods used work in the same way for both lists and strings\n",
    "      Lists: List/Array of any data types\n",
    "      String: List/Array of characters</strong>\n",
    "</pre>\n",
    "</div>"
   ]
  },
  {
   "cell_type": "code",
   "execution_count": 3,
   "id": "73079012-91ee-4147-ae7d-a1a48430c232",
   "metadata": {},
   "outputs": [
    {
     "name": "stdout",
     "output_type": "stream",
     "text": [
      "List1: ['helloworld', 123, 546, [1, 2, 3, 4], 'Application']\n",
      "String1: Hello-World-App\n"
     ]
    }
   ],
   "source": [
    "#Declare and empty list, empty string\n",
    "list1 = []\n",
    "string1 = \"\"\n",
    "\n",
    "list1 = ['helloworld',123,546,[1,2,3,4],'Application']\n",
    "string1 = \"Hello-World-App\"\n",
    "\n",
    "print(\"List1: {}\".format(list1))\n",
    "print(\"String1: {}\".format(string1))"
   ]
  },
  {
   "cell_type": "code",
   "execution_count": 4,
   "id": "462b1771-fd77-4a6f-81c0-0b680d2335f2",
   "metadata": {},
   "outputs": [
    {
     "name": "stdout",
     "output_type": "stream",
     "text": [
      "First element in list: helloworld\n",
      "First element in string H\n"
     ]
    }
   ],
   "source": [
    "print(\"First element in list: {}\".format(list1[0]))\n",
    "print(\"First element in string {}\".format(string1[0]))"
   ]
  },
  {
   "cell_type": "code",
   "execution_count": 5,
   "id": "87406a06-7e77-4919-b830-f300bb9ad599",
   "metadata": {},
   "outputs": [
    {
     "name": "stdout",
     "output_type": "stream",
     "text": [
      "First element in list: [546, [1, 2, 3, 4], 'Application']\n",
      "First element in string llo-World-App\n"
     ]
    }
   ],
   "source": [
    "#Display from 3rd element onwards of list1 and string1\n",
    "print(\"First element in list: {}\".format(list1[2:]))\n",
    "print(\"First element in string {}\".format(string1[2:]))"
   ]
  },
  {
   "cell_type": "code",
   "execution_count": 6,
   "id": "776333ca-7746-44fe-91dc-176cf6b71942",
   "metadata": {},
   "outputs": [
    {
     "name": "stdout",
     "output_type": "stream",
     "text": [
      "First element in list: [123, 546]\n",
      "First element in string llo-World-A\n"
     ]
    }
   ],
   "source": [
    "#Display from 3rd element onwards of list1 and string1\n",
    "print(\"First element in list: {}\".format(list1[1:3]))\n",
    "print(\"First element in string {}\".format(string1[2:-2]))"
   ]
  },
  {
   "cell_type": "code",
   "execution_count": 7,
   "id": "025823fa-395e-41c9-9c52-5c905a32eea9",
   "metadata": {},
   "outputs": [
    {
     "name": "stdout",
     "output_type": "stream",
     "text": [
      "First element in list: ['helloworld', 123, 546, [1, 2, 3, 4]]\n"
     ]
    }
   ],
   "source": [
    "#list from beginning to second last item.\n",
    "print(\"First element in list: {}\".format(list1[:-1]))"
   ]
  },
  {
   "cell_type": "code",
   "execution_count": 8,
   "id": "60ab4e9b-f06d-4a51-97a8-fc586f6ed76c",
   "metadata": {},
   "outputs": [
    {
     "name": "stdout",
     "output_type": "stream",
     "text": [
      "Updated list1: ['helloworld', 123, 546, [1, 2, 3, 4], 'Application', 'Add to End']\n"
     ]
    }
   ],
   "source": [
    "#Add to the list\n",
    "list1.append(\"Add to End\")\n",
    "print(\"Updated list1: {}\".format(list1))"
   ]
  },
  {
   "cell_type": "code",
   "execution_count": 9,
   "id": "45af3ce4-e909-4c09-b801-f617fda8d3fc",
   "metadata": {},
   "outputs": [
    {
     "name": "stdout",
     "output_type": "stream",
     "text": [
      "Updated list1: ['helloworld', 123, 'Add to 3rd element position', 546, [1, 2, 3, 4], 'Application', 'Add to End']\n"
     ]
    }
   ],
   "source": [
    "#Insert to the list at 3rd position\n",
    "list1.insert(2,\"Add to 3rd element position\")\n",
    "print(\"Updated list1: {}\".format(list1))"
   ]
  },
  {
   "cell_type": "code",
   "execution_count": 10,
   "id": "135b7ebc-76a9-40d5-a21b-212cb5eaa580",
   "metadata": {},
   "outputs": [
    {
     "name": "stdout",
     "output_type": "stream",
     "text": [
      "Updated list1:['helloworld', 123, 546, [1, 2, 3, 4], 'Application', 'Add to End']\n"
     ]
    }
   ],
   "source": [
    "#Delete the 3rd element\n",
    "del list1[2]\n",
    "print(\"Updated list1:{}\".format(list1))"
   ]
  },
  {
   "cell_type": "markdown",
   "id": "9b4d077d-e5d8-469b-b868-373caebf0cd1",
   "metadata": {},
   "source": [
    "<div style=\"background-color: #e6e6fa\">\n",
    "<pre style=\"background-color: #e6e6fa\">\n",
    "<strong>(VIII) Conditional Statements if/elif/else, not/and/or/==/!=/. \n",
    "        if does not require to end with else in python.\n",
    "</pre>\n",
    "</div>"
   ]
  },
  {
   "cell_type": "code",
   "execution_count": 13,
   "id": "acb27cd5-d0a0-4131-84b9-4238e04cc2c4",
   "metadata": {},
   "outputs": [
    {
     "name": "stdout",
     "output_type": "stream",
     "text": [
      "List1 has 6 items\n"
     ]
    }
   ],
   "source": [
    "#if list1 has 6 items\n",
    "list1=[10,22,45,33,66,60]\n",
    "\n",
    "if len(list1) >= 6:\n",
    "    print(\"List1 has {} items\".format(len(list1)))"
   ]
  },
  {
   "cell_type": "code",
   "execution_count": 14,
   "id": "d6a58369-9f66-4a9e-97d8-022d761f9e53",
   "metadata": {},
   "outputs": [
    {
     "name": "stdout",
     "output_type": "stream",
     "text": [
      "List1 has 5 < 6 items\n"
     ]
    }
   ],
   "source": [
    "#if list1 has 5 items\n",
    "list1=[10,22,45,33,66]\n",
    "\n",
    "if len(list1) >= 6:\n",
    "    print(\"List1 has {} items\".format(len(list1)))\n",
    "elif len(list1) >= 5:\n",
    "    print(\"List1 has {} < 6 items\".format(len(list1)))"
   ]
  },
  {
   "cell_type": "code",
   "execution_count": 16,
   "id": "e47a3090-441a-4947-8c8f-c69b6bf48a5e",
   "metadata": {},
   "outputs": [
    {
     "name": "stdout",
     "output_type": "stream",
     "text": [
      "List1 has 4/4 items\n"
     ]
    }
   ],
   "source": [
    "#if list1 has 4 items\n",
    "list1=[10,22,45,33]\n",
    "\n",
    "if len(list1) >= 6:\n",
    "    print(\"List1 has {} items\".format(len(list1)))\n",
    "elif len(list1) >= 5:\n",
    "    print(\"List1 has {} < 6 items\".format(len(list1)))\n",
    "else:\n",
    "    print(\"List1 has {}/4 items\".format(len(list1)))"
   ]
  },
  {
   "cell_type": "code",
   "execution_count": null,
   "id": "1c8c5943-ed4d-4fd1-9b72-44d64772eca9",
   "metadata": {},
   "outputs": [],
   "source": [
    "#String split"
   ]
  },
  {
   "cell_type": "code",
   "execution_count": null,
   "id": "8ea45209-ef64-404f-8ed0-ee91283501f0",
   "metadata": {},
   "outputs": [],
   "source": [
    "#Functions"
   ]
  },
  {
   "cell_type": "code",
   "execution_count": null,
   "id": "31ecd634-a7ae-4c29-9020-bac3dddd0c33",
   "metadata": {},
   "outputs": [],
   "source": [
    "#import"
   ]
  }
 ],
 "metadata": {
  "kernelspec": {
   "display_name": "Python 3 (ipykernel)",
   "language": "python",
   "name": "python3"
  },
  "language_info": {
   "codemirror_mode": {
    "name": "ipython",
    "version": 3
   },
   "file_extension": ".py",
   "mimetype": "text/x-python",
   "name": "python",
   "nbconvert_exporter": "python",
   "pygments_lexer": "ipython3",
   "version": "3.9.2"
  }
 },
 "nbformat": 4,
 "nbformat_minor": 5
}
